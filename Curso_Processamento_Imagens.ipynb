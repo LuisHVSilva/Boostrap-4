{
  "nbformat": 4,
  "nbformat_minor": 0,
  "metadata": {
    "colab": {
      "name": "Curso_Processamento_Imagens.ipynb",
      "provenance": [],
      "mount_file_id": "1btFBhn_Ox39Mlr1E2b7zfSdZGLQioCeG",
      "authorship_tag": "ABX9TyMXKisfmRvow3f2BKWerx05",
      "include_colab_link": true
    },
    "kernelspec": {
      "name": "python3",
      "display_name": "Python 3"
    },
    "language_info": {
      "name": "python"
    }
  },
  "cells": [
    {
      "cell_type": "markdown",
      "metadata": {
        "id": "view-in-github",
        "colab_type": "text"
      },
      "source": [
        "<a href=\"https://colab.research.google.com/github/LuisHVSilva/Boostrap-4/blob/main/Curso_Processamento_Imagens.ipynb\" target=\"_parent\"><img src=\"https://colab.research.google.com/assets/colab-badge.svg\" alt=\"Open In Colab\"/></a>"
      ]
    },
    {
      "cell_type": "markdown",
      "source": [
        "#Básico"
      ],
      "metadata": {
        "id": "LVLhRMSYPsKl"
      }
    },
    {
      "cell_type": "code",
      "source": [
        "import torch"
      ],
      "metadata": {
        "id": "yD_jhIn8gTO5"
      },
      "execution_count": null,
      "outputs": []
    },
    {
      "cell_type": "markdown",
      "source": [
        "##Estruturas básicas"
      ],
      "metadata": {
        "id": "PNa3Ow-sPvYD"
      }
    },
    {
      "cell_type": "code",
      "source": [
        "# Basicamente um array otimizado para redes neurais\n",
        "T = torch.tensor( [ [1,2] , [3,4]])\n",
        "\n",
        "# Estruturas básicas\n",
        "T_zeros = torch.zeros(100, 100)\n",
        "T_ones = torch.ones(100, 100)\n",
        "T_random = torch.rand(10, 10) # 0 <= T <= 1\n",
        "\n",
        "# dtype sets the data type\n",
        "T_int = torch.tensor( [ [1,2] , [3,4]], dtype=torch.int)\n",
        "T_double = torch.tensor( [3, 5, 7], dtype=torch.double) # torch.float64\n",
        "\n",
        "print(T.dtype)\n",
        "print(T.size())"
      ],
      "metadata": {
        "id": "dxgOR14qOUBZ"
      },
      "execution_count": null,
      "outputs": []
    },
    {
      "cell_type": "markdown",
      "source": [
        "##Operações"
      ],
      "metadata": {
        "id": "MZ6SJRqRPx6S"
      }
    },
    {
      "cell_type": "code",
      "source": [
        "# (operação elemento à elemento)\n",
        "x = torch.randn(3, 3, dtype=torch.float64)\n",
        "y = torch.randn(3, 3, dtype=torch.float64)\n",
        "\n",
        "# Adição e subtração\n",
        "z = x + y\n",
        "z = torch.add(x,y)\n",
        "w = x - y\n",
        "w = torch.sub(x,y)\n",
        "\n",
        "# Multiplicação e divisão\n",
        "u = x * y\n",
        "u = torch.mul(x,y)\n",
        "v = x / y\n",
        "v = torch.div(x,y)\n",
        "\n",
        "y.add_(x)\n",
        "x.add_(y)"
      ],
      "metadata": {
        "id": "_OvwvKXLPz7C"
      },
      "execution_count": null,
      "outputs": []
    },
    {
      "cell_type": "markdown",
      "source": [
        "##Indexação"
      ],
      "metadata": {
        "id": "U7tJPwv8QtKc"
      }
    },
    {
      "cell_type": "code",
      "source": [
        "x = torch.randn(6, 6, dtype=torch.float64)\n",
        "y = torch.randn(6, 6, dtype=torch.float64)\n",
        "\n",
        "# Indexando e fatiando\n",
        "x_row = x[3,:] # Selecionando terceira linha\n",
        "x_cln = x[:,3] # Selecionando terceira coluna\n",
        "x_e = x[0,0].item() # Selecionando o primeiro item\n",
        "\n",
        "# Reshape\n",
        "z = y.view(36) # 36x1\n",
        "w = y.view(-1, 9) # Tensor 4x9 (-1 = dimensão que falta)"
      ],
      "metadata": {
        "id": "nJuHHSz9QueX"
      },
      "execution_count": null,
      "outputs": []
    },
    {
      "cell_type": "markdown",
      "source": [
        "##União com numpy"
      ],
      "metadata": {
        "id": "NgRWYwpsR_3c"
      }
    },
    {
      "cell_type": "code",
      "source": [
        "import numpy as np"
      ],
      "metadata": {
        "id": "RXMi3zAvSCAg"
      },
      "execution_count": null,
      "outputs": []
    },
    {
      "cell_type": "code",
      "source": [
        "x = torch.rand(10)\n",
        "y = x.numpy()\n",
        "\n",
        "a = np.ones(5)\n",
        "b = torch.from_numpy(a) # mesma coisa\n",
        "b = torch.tensor(a) # mesma coisa"
      ],
      "metadata": {
        "id": "1kmHKjJvSFf6"
      },
      "execution_count": null,
      "outputs": []
    },
    {
      "cell_type": "markdown",
      "source": [
        "##Como usar a gpu"
      ],
      "metadata": {
        "id": "qWtvj7kJT2UJ"
      }
    },
    {
      "cell_type": "code",
      "source": [
        "# As operações devem ser feitas todas no mesmo device #\n",
        "# Existem placas cuda = gpu e cpu = cpu, onde cpu é o padrão\n",
        "\n",
        "device = torch.device(\"cuda\")\n",
        "#x = torch.randn(5,5, device=device) # Colocar os dados na gpu\n",
        "\n",
        "device2 = torch.device(\"cuda:2\")\n",
        "#x = torch.randn(5,5, device=device2) # Colocar os dados na gpu\n",
        "\n",
        "y = torch.ones(5,5)\n",
        "y.to(device)"
      ],
      "metadata": {
        "id": "SO4O0bkhU1Wy"
      },
      "execution_count": null,
      "outputs": []
    },
    {
      "cell_type": "markdown",
      "source": [
        "##Autograd"
      ],
      "metadata": {
        "id": "vY9mlQukVARr"
      }
    },
    {
      "cell_type": "code",
      "source": [
        "# Maneiras de construir gradientes automaticamente\n",
        "\n",
        "x = torch.randn(3, requires_grad=True) # Acompanhar os gradientes desse tensor\n",
        "y = torch.randn(3, requires_grad=True) # Acompanhar os gradientes desse tensor\n",
        "z = torch.randn(3, requires_grad=False) # Não acompanhar os gradientes desse tensor\n",
        "\n",
        "# Todas as operações abaixo terão uma função gradiente\n",
        "p = x + y # Adição \n",
        "g = p * z # Produto\n",
        "g = g.mean() # Média\n",
        "\n",
        "g.backward() # Derivando g em x\n",
        "print(x.grad)\n",
        "\n",
        "y.detach() # Tirar o gradiente escrito ali em cima\n",
        "with torch.no_grad(): # Setando um ambiente sem gradientes\n",
        "  pass"
      ],
      "metadata": {
        "id": "AX6Xv5zTVBpr"
      },
      "execution_count": null,
      "outputs": []
    },
    {
      "cell_type": "markdown",
      "source": [
        "##torch.nn"
      ],
      "metadata": {
        "id": "m0EbJHJ-Y3pP"
      }
    },
    {
      "cell_type": "code",
      "source": [
        "'''\n",
        "Parte da biblioteca para as camadas de redes neurais, função de ativação,\n",
        "função de perda\n",
        "\n",
        "Algumas funções de 'nn'\n",
        "-> Camadas : Linear, Conv2d, LSTM\n",
        "-> Função de ativação: ReLu, Sigmoid, Dropout\n",
        "-> Classes próprias: Module, Sequencial\n",
        "-> Função de perda: Softmax, CrossEntropyLoss, MSELoss, Transformer\n",
        "'''\n",
        "\n",
        "#Criando uma camada linear\n",
        "L = torch.nn.Linear(10, 25) # Leva 10 neurônios em 25\n",
        "\n",
        "x = torch.randn(3,10) # 3 exemplos de tamanho 10\n",
        "y = L(x) # Cria 3 versões de tamanho 25\n",
        "print(y.size())\n",
        "\n",
        "model = torch.nn.Sequential(L,\n",
        "                            torch.nn.ReLU(), # Função de ativação ReLU\n",
        "                            torch.nn.Linear(25,5) # Mais uma linear de 25 para 5\n",
        "                            ) # Compondo camadas\n",
        "\n",
        "y = model(x)\n",
        "print(y.size())"
      ],
      "metadata": {
        "id": "i7VG8dSTY9dA"
      },
      "execution_count": null,
      "outputs": []
    }
  ]
}